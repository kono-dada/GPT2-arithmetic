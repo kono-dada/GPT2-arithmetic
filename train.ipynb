{
 "cells": [
  {
   "cell_type": "markdown",
   "metadata": {},
   "source": [
    "## This project pretrains a GPT-2 like model on a arithmetic dataset. The dataset is in `dataset.json`."
   ]
  },
  {
   "cell_type": "markdown",
   "metadata": {},
   "source": [
    "## Tokenizer\n",
    "\n",
    "The model only runs on `0123456789+=*()r`, in which `r` represents carrying."
   ]
  },
  {
   "cell_type": "code",
   "execution_count": 1,
   "metadata": {},
   "outputs": [],
   "source": [
    "from typing import Tuple\n",
    "import torch\n",
    "from datasets import load_dataset\n",
    "from transformers import PreTrainedTokenizer\n",
    "\n",
    "\n",
    "# Initialize a tokenizer\n",
    "class ArithmeticTokenizer(PreTrainedTokenizer):\n",
    "    vocab = {'=': 0, '+': 1, '*': 2,\n",
    "             '(': 3, ')': 4, 'b': 5, 'e': 6, 'u': 7, 'p': 8, 'm': 9, 'r': 10}\n",
    "    for i in range(10):\n",
    "        vocab[f'{i}'] = len(vocab)\n",
    "    reversed_vocab = {v: k for k, v in vocab.items()}\n",
    "    vocab_size = len(vocab)\n",
    "\n",
    "    def __init__(self):\n",
    "        super().__init__(\n",
    "            tokenizer_object=None,\n",
    "            bos_token='b',\n",
    "            eos_token='e',\n",
    "            unk_token='u',\n",
    "            pad_token='p',\n",
    "            mask_token='m',\n",
    "        )\n",
    "\n",
    "    def _tokenize(self, text):\n",
    "        # Remove spaces and split into single characters\n",
    "        return list(text.replace(\" \", \"\"))\n",
    "\n",
    "    def _convert_token_to_id(self, token):\n",
    "        return self.vocab[token] if token in self.vocab else self.vocab[self.unk_token]\n",
    "\n",
    "    def _convert_id_to_token(self, id):\n",
    "        return self.reversed_vocab[id] if id in self.reversed_vocab else self.unk_token\n",
    "    \n",
    "    def save_vocabulary(self, save_directory: str, filename_prefix: str | None = None) -> Tuple[str]:\n",
    "        return ('',)\n",
    "\n",
    "\n",
    "tokenizer = ArithmeticTokenizer()"
   ]
  },
  {
   "cell_type": "code",
   "execution_count": 2,
   "metadata": {},
   "outputs": [
    {
     "data": {
      "text/plain": [
       "{'input_ids': [[12, 13, 14, 15, 16], [12]], 'token_type_ids': [[0, 0, 0, 0, 0], [0]], 'attention_mask': [[1, 1, 1, 1, 1], [1]]}"
      ]
     },
     "execution_count": 2,
     "metadata": {},
     "output_type": "execute_result"
    }
   ],
   "source": [
    "tokenizer(['12345','1'], truncation=True, max_length=512)"
   ]
  },
  {
   "cell_type": "markdown",
   "metadata": {},
   "source": [
    "## Load Dataset"
   ]
  },
  {
   "cell_type": "code",
   "execution_count": 3,
   "metadata": {},
   "outputs": [
    {
     "data": {
      "application/vnd.jupyter.widget-view+json": {
       "model_id": "936aedc72f864e049e1cf10549f67951",
       "version_major": 2,
       "version_minor": 0
      },
      "text/plain": [
       "Map:   0%|          | 0/20000 [00:00<?, ? examples/s]"
      ]
     },
     "metadata": {},
     "output_type": "display_data"
    },
    {
     "data": {
      "application/vnd.jupyter.widget-view+json": {
       "model_id": "bd8a37018f1041a9913bb4275eae1a9c",
       "version_major": 2,
       "version_minor": 0
      },
      "text/plain": [
       "Map:   0%|          | 0/5000 [00:00<?, ? examples/s]"
      ]
     },
     "metadata": {},
     "output_type": "display_data"
    }
   ],
   "source": [
    "from transformers import DataCollatorForTokenClassification\n",
    "\n",
    "# Load split the dataset in 80% training and 20% validation from dataset.txt\n",
    "dataset = load_dataset('json', data_files='dataset.json')[\n",
    "    'train'].train_test_split(test_size=0.2)\n",
    "max_length = 512\n",
    "# tokenize the dataset\n",
    "\n",
    "\n",
    "def tokenize_function(example):\n",
    "    question = tokenized = tokenizer.encode(\n",
    "        example['question'], truncation=True, max_length=max_length)\n",
    "    answer = tokenized = tokenizer.encode(\n",
    "        example['answer'], truncation=True, max_length=max_length)\n",
    "    # Concatenate question and answer\n",
    "    input_ids = question + answer + [tokenizer.eos_token_id]\n",
    "    # Create a mask where 1 indicates the tokens that the model should try to predict\n",
    "    labels = [-100] * len(tokenizer.encode(question)) + \\\n",
    "        answer + [tokenizer.eos_token_id]\n",
    "    # # pad all the sequences to the same length\n",
    "    # input_ids += [tokenizer.pad_token_id] * (max_length - len(input_ids))\n",
    "    # labels += [-100] * (max_length - len(labels))\n",
    "    return {\"input_ids\": input_ids, 'labels': labels, 'attention_mask': [1]*len(input_ids)}\n",
    "\n",
    "\n",
    "tokenized_datasets = dataset.map(tokenize_function)\n",
    "\n",
    "# Instantiate your custom collator\n",
    "data_collator = DataCollatorForTokenClassification(tokenizer=tokenizer, return_tensors=\"pt\")"
   ]
  },
  {
   "cell_type": "code",
   "execution_count": 4,
   "metadata": {},
   "outputs": [
    {
     "name": "stdout",
     "output_type": "stream",
     "text": [
      "{'answer': '0084+6072=6r0+0080+6070=65r1+0000+6000=651r0+0000+6000=6516r0+0000+0000=6516', 'question': '84+6072=', 'input_ids': [19, 15, 1, 17, 11, 18, 13, 0, 11, 11, 19, 15, 1, 17, 11, 18, 13, 0, 17, 10, 11, 1, 11, 11, 19, 11, 1, 17, 11, 18, 11, 0, 17, 16, 10, 12, 1, 11, 11, 11, 11, 1, 17, 11, 11, 11, 0, 17, 16, 12, 10, 11, 1, 11, 11, 11, 11, 1, 17, 11, 11, 11, 0, 17, 16, 12, 17, 10, 11, 1, 11, 11, 11, 11, 1, 11, 11, 11, 11, 0, 17, 16, 12, 17, 6], 'labels': [-100, -100, -100, -100, -100, -100, -100, -100, 11, 11, 19, 15, 1, 17, 11, 18, 13, 0, 17, 10, 11, 1, 11, 11, 19, 11, 1, 17, 11, 18, 11, 0, 17, 16, 10, 12, 1, 11, 11, 11, 11, 1, 17, 11, 11, 11, 0, 17, 16, 12, 10, 11, 1, 11, 11, 11, 11, 1, 17, 11, 11, 11, 0, 17, 16, 12, 17, 10, 11, 1, 11, 11, 11, 11, 1, 11, 11, 11, 11, 0, 17, 16, 12, 17, 6], 'attention_mask': [1, 1, 1, 1, 1, 1, 1, 1, 1, 1, 1, 1, 1, 1, 1, 1, 1, 1, 1, 1, 1, 1, 1, 1, 1, 1, 1, 1, 1, 1, 1, 1, 1, 1, 1, 1, 1, 1, 1, 1, 1, 1, 1, 1, 1, 1, 1, 1, 1, 1, 1, 1, 1, 1, 1, 1, 1, 1, 1, 1, 1, 1, 1, 1, 1, 1, 1, 1, 1, 1, 1, 1, 1, 1, 1, 1, 1, 1, 1, 1, 1, 1, 1, 1, 1]}\n"
     ]
    }
   ],
   "source": [
    "print(tokenized_datasets['train'][0])\n",
    "# print(data_collator(tokenized_datasets['train'][2]))"
   ]
  },
  {
   "cell_type": "markdown",
   "metadata": {},
   "source": [
    "## Configs\n",
    "Since there are only 16 distinct tokens, the n_embd would be smaller than GPT2."
   ]
  },
  {
   "cell_type": "code",
   "execution_count": null,
   "metadata": {},
   "outputs": [],
   "source": [
    "from transformers import GPT2Config, GPT2LMHeadModel, Trainer, TrainingArguments\n",
    "\n",
    "# Create GPT-2 configuration\n",
    "config = GPT2Config(\n",
    "    n_positions=512,\n",
    "    n_embd=32,\n",
    "    n_head=8,\n",
    "    n_layer=16,\n",
    "    vocab_size=tokenizer.vocab_size,\n",
    "    bos_token_id=tokenizer.bos_token_id,\n",
    "    eos_token_id=tokenizer.eos_token_id,\n",
    ")\n",
    "\n",
    "torch.cuda.empty_cache()\n",
    "# Instantiate model\n",
    "model = GPT2LMHeadModel(config)\n",
    "# print the number of parameters\n",
    "print(f'The model has {model.num_parameters()} parameters')"
   ]
  },
  {
   "cell_type": "markdown",
   "metadata": {},
   "source": [
    "## Training and Testing"
   ]
  },
  {
   "cell_type": "code",
   "execution_count": null,
   "metadata": {},
   "outputs": [],
   "source": [
    "# Define training arguments\n",
    "training_args = TrainingArguments(\n",
    "    output_dir=\"./gpt2-numbers\",\n",
    "    num_train_epochs=10,\n",
    "    per_device_train_batch_size=64,\n",
    "    logging_steps=1,\n",
    "    learning_rate=0.0005,\n",
    "    do_eval=True,\n",
    "    evaluation_strategy='steps',\n",
    "    eval_steps=1000,\n",
    ")\n",
    "\n",
    "\n",
    "# Initialize trainer\n",
    "trainer = Trainer(\n",
    "    model=model,\n",
    "    args=training_args,\n",
    "    train_dataset=tokenized_datasets['train'],\n",
    "    eval_dataset=tokenized_datasets['test'],\n",
    "    data_collator=data_collator,\n",
    "    tokenizer=tokenizer\n",
    ")\n",
    "\n",
    "# Train the model\n",
    "trainer.train()"
   ]
  },
  {
   "cell_type": "code",
   "execution_count": null,
   "metadata": {},
   "outputs": [],
   "source": [
    "# generate some text\n",
    "text = \"12+3526=\"\n",
    "input_ids = tokenizer(text, return_tensors='pt')['input_ids'].to('cuda')\n",
    "generated = model.generate(input_ids, max_length=100)\n",
    "print(tokenizer.decode(generated[0], skip_special_tokens=True, verbose=False).replace(' ', ''))\n",
    "print(str(eval(text[:-1]))[::-1])\n"
   ]
  }
 ],
 "metadata": {
  "kernelspec": {
   "display_name": "base",
   "language": "python",
   "name": "python3"
  },
  "language_info": {
   "codemirror_mode": {
    "name": "ipython",
    "version": 3
   },
   "file_extension": ".py",
   "mimetype": "text/x-python",
   "name": "python",
   "nbconvert_exporter": "python",
   "pygments_lexer": "ipython3",
   "version": "3.10.10"
  }
 },
 "nbformat": 4,
 "nbformat_minor": 2
}
