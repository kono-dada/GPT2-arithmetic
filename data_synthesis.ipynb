{
 "cells": [
  {
   "cell_type": "code",
   "execution_count": 10,
   "metadata": {},
   "outputs": [],
   "source": [
    "import json\n",
    "import random\n",
    "\n",
    "\n",
    "dataset = []\n",
    "\n",
    "\n",
    "def add(a, b):\n",
    "    max_length = max(len(str(a)), len(str(b)))\n",
    "    str_a, str_b = str(a).rjust(max_length, '0'), str(b).rjust(max_length, '0')\n",
    "    answer = f'{str_a}+{str_b}'\n",
    "    result = ''\n",
    "    carry = 0\n",
    "    for i in range(max_length-1, -1, -1):\n",
    "        a_digit, b_digit = int(str_a[i]), int(str_b[i])\n",
    "        # set the ith digit to 0\n",
    "        str_a = str_a[:i] + '0' + str_a[i+1:]\n",
    "        str_b = str_b[:i] + '0' + str_b[i+1:]\n",
    "        result_i = a_digit + b_digit + carry\n",
    "        carry = 0\n",
    "        if result_i >= 10:\n",
    "            carry = 1\n",
    "            result_i -= 10\n",
    "        else:\n",
    "            carry = 0\n",
    "        result += str(result_i)\n",
    "        answer += f'={result}r{carry}+{str_a}+{str_b}'\n",
    "    answer += f'={str(a+b)[::-1]}'\n",
    "    return {'question': f'{a}+{b}=', 'answer': answer}\n",
    "\n",
    "\n",
    "for _ in range(5000):\n",
    "    a, b = random.randint(0, 10000), random.randint(0, 10000)\n",
    "    dataset.append(add(a, b))\n",
    "for _ in range(5000):\n",
    "    a, b = random.randint(0, 10000), random.randint(0, 1000)\n",
    "    dataset.append(add(a, b))\n",
    "for _ in range(5000):\n",
    "    a, b = random.randint(0, 1000), random.randint(0, 10000)\n",
    "    dataset.append(add(a, b))\n",
    "for _ in range(5000):\n",
    "    a, b = random.randint(0, 100), random.randint(0, 10000)\n",
    "    dataset.append(add(a, b))\n",
    "for _ in range(5000):\n",
    "    a, b = random.randint(0, 10000), random.randint(0, 100)\n",
    "    dataset.append(add(a, b))\n",
    "# shuffle the dataset\n",
    "random.shuffle(dataset)\n",
    "\n",
    "with open('dataset.json', 'w') as f:\n",
    "    # write the dataset to a file in json indent format\n",
    "    json.dump(dataset, f, indent=2)"
   ]
  },
  {
   "cell_type": "code",
   "execution_count": 5,
   "metadata": {},
   "outputs": [],
   "source": [
    "from datasets import load_dataset\n",
    "\n",
    "\n",
    "dataset = load_dataset('json', data_files='dataset.json')\n"
   ]
  },
  {
   "cell_type": "code",
   "execution_count": 8,
   "metadata": {},
   "outputs": [
    {
     "name": "stdout",
     "output_type": "stream",
     "text": [
      "Dataset({\n",
      "    features: ['answer', 'question'],\n",
      "    num_rows: 100\n",
      "})\n"
     ]
    }
   ],
   "source": [
    "print(dataset['train'])"
   ]
  }
 ],
 "metadata": {
  "kernelspec": {
   "display_name": "base",
   "language": "python",
   "name": "python3"
  },
  "language_info": {
   "codemirror_mode": {
    "name": "ipython",
    "version": 3
   },
   "file_extension": ".py",
   "mimetype": "text/x-python",
   "name": "python",
   "nbconvert_exporter": "python",
   "pygments_lexer": "ipython3",
   "version": "3.10.10"
  }
 },
 "nbformat": 4,
 "nbformat_minor": 2
}
